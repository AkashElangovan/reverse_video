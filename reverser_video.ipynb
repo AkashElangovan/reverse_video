{
  "nbformat": 4,
  "nbformat_minor": 0,
  "metadata": {
    "colab": {
      "provenance": [],
      "gpuType": "T4"
    },
    "kernelspec": {
      "name": "python3",
      "display_name": "Python 3"
    },
    "language_info": {
      "name": "python"
    },
    "accelerator": "GPU"
  },
  "cells": [
    {
      "cell_type": "code",
      "execution_count": 1,
      "metadata": {
        "colab": {
          "base_uri": "https://localhost:8080/"
        },
        "id": "62ody8bt2VZp",
        "outputId": "1c468514-69d3-4797-8b35-e8ef6cd97dc5"
      },
      "outputs": [
        {
          "output_type": "stream",
          "name": "stdout",
          "text": [
            "Hit:1 https://developer.download.nvidia.com/compute/cuda/repos/ubuntu2204/x86_64  InRelease\n",
            "Get:2 https://cloud.r-project.org/bin/linux/ubuntu jammy-cran40/ InRelease [3,632 B]\n",
            "Get:3 https://r2u.stat.illinois.edu/ubuntu jammy InRelease [6,555 B]\n",
            "Get:4 http://security.ubuntu.com/ubuntu jammy-security InRelease [129 kB]\n",
            "Hit:5 http://archive.ubuntu.com/ubuntu jammy InRelease\n",
            "Get:6 http://archive.ubuntu.com/ubuntu jammy-updates InRelease [128 kB]\n",
            "Get:7 https://r2u.stat.illinois.edu/ubuntu jammy/main all Packages [8,793 kB]\n",
            "Hit:8 https://ppa.launchpadcontent.net/deadsnakes/ppa/ubuntu jammy InRelease\n",
            "Hit:9 https://ppa.launchpadcontent.net/graphics-drivers/ppa/ubuntu jammy InRelease\n",
            "Hit:10 https://ppa.launchpadcontent.net/ubuntugis/ppa/ubuntu jammy InRelease\n",
            "Get:11 http://archive.ubuntu.com/ubuntu jammy-backports InRelease [127 kB]\n",
            "Get:12 https://r2u.stat.illinois.edu/ubuntu jammy/main amd64 Packages [2,686 kB]\n",
            "Get:13 http://security.ubuntu.com/ubuntu jammy-security/main amd64 Packages [2,773 kB]\n",
            "Get:14 http://archive.ubuntu.com/ubuntu jammy-updates/universe amd64 Packages [1,540 kB]\n",
            "Get:15 http://security.ubuntu.com/ubuntu jammy-security/restricted amd64 Packages [3,972 kB]\n",
            "Get:16 http://security.ubuntu.com/ubuntu jammy-security/universe amd64 Packages [1,241 kB]\n",
            "Get:17 http://archive.ubuntu.com/ubuntu jammy-updates/restricted amd64 Packages [4,126 kB]\n",
            "Get:18 http://archive.ubuntu.com/ubuntu jammy-updates/main amd64 Packages [3,081 kB]\n",
            "Fetched 28.6 MB in 6s (4,956 kB/s)\n",
            "Reading package lists... Done\n",
            "W: Skipping acquire of configured file 'main/source/Sources' as repository 'https://r2u.stat.illinois.edu/ubuntu jammy InRelease' does not seem to provide it (sources.list entry misspelt?)\n",
            "Reading package lists... Done\n",
            "Building dependency tree... Done\n",
            "Reading state information... Done\n",
            "ffmpeg is already the newest version (7:4.4.2-0ubuntu0.22.04.1).\n",
            "0 upgraded, 0 newly installed, 0 to remove and 39 not upgraded.\n",
            "Requirement already satisfied: imageio[ffmpeg] in /usr/local/lib/python3.11/dist-packages (2.37.0)\n",
            "Requirement already satisfied: numpy in /usr/local/lib/python3.11/dist-packages (from imageio[ffmpeg]) (2.0.2)\n",
            "Requirement already satisfied: pillow>=8.3.2 in /usr/local/lib/python3.11/dist-packages (from imageio[ffmpeg]) (11.1.0)\n",
            "Requirement already satisfied: imageio-ffmpeg in /usr/local/lib/python3.11/dist-packages (from imageio[ffmpeg]) (0.6.0)\n",
            "Requirement already satisfied: psutil in /usr/local/lib/python3.11/dist-packages (from imageio[ffmpeg]) (5.9.5)\n",
            "Tue Apr  1 19:37:09 2025       \n",
            "+-----------------------------------------------------------------------------------------+\n",
            "| NVIDIA-SMI 550.54.15              Driver Version: 550.54.15      CUDA Version: 12.4     |\n",
            "|-----------------------------------------+------------------------+----------------------+\n",
            "| GPU  Name                 Persistence-M | Bus-Id          Disp.A | Volatile Uncorr. ECC |\n",
            "| Fan  Temp   Perf          Pwr:Usage/Cap |           Memory-Usage | GPU-Util  Compute M. |\n",
            "|                                         |                        |               MIG M. |\n",
            "|=========================================+========================+======================|\n",
            "|   0  Tesla T4                       Off |   00000000:00:04.0 Off |                    0 |\n",
            "| N/A   51C    P8             10W /   70W |       0MiB /  15360MiB |      0%      Default |\n",
            "|                                         |                        |                  N/A |\n",
            "+-----------------------------------------+------------------------+----------------------+\n",
            "                                                                                         \n",
            "+-----------------------------------------------------------------------------------------+\n",
            "| Processes:                                                                              |\n",
            "|  GPU   GI   CI        PID   Type   Process name                              GPU Memory |\n",
            "|        ID   ID                                                               Usage      |\n",
            "|=========================================================================================|\n",
            "|  No running processes found                                                             |\n",
            "+-----------------------------------------------------------------------------------------+\n"
          ]
        }
      ],
      "source": [
        "# 🚀 Install CUDA-enabled FFmpeg for GPU acceleration\n",
        "!sudo apt-get update\n",
        "!sudo apt-get install -y ffmpeg\n",
        "!pip install imageio[ffmpeg]\n",
        "\n",
        "# ✅ Check if GPU is available\n",
        "!nvidia-smi\n"
      ]
    },
    {
      "cell_type": "code",
      "source": [
        "import os\n",
        "import subprocess\n",
        "from google.colab import drive\n",
        "\n",
        "# 🚀 Mount Google Drive\n",
        "drive.mount('/content/drive')\n"
      ],
      "metadata": {
        "colab": {
          "base_uri": "https://localhost:8080/"
        },
        "id": "hUdJK3t_3Aed",
        "outputId": "57cf5c63-be33-4b3c-a5ce-a806572268a3"
      },
      "execution_count": 2,
      "outputs": [
        {
          "output_type": "stream",
          "name": "stdout",
          "text": [
            "Mounted at /content/drive\n"
          ]
        }
      ]
    },
    {
      "cell_type": "code",
      "source": [
        "\n",
        "# ⚙️ Set Source Folder (Change \"YOUR_SOURCE_FOLDER\" to your actual folder inside Drive)\n",
        "SOURCE_FOLDER = \"/content/drive/MyDrive/Maven\"  # Change this!\n",
        "DEST_FOLDER = SOURCE_FOLDER + \"_reversed\"\n",
        "\n",
        "# 📂 Ensure Destination Folder Exists\n",
        "if not os.path.exists(DEST_FOLDER):\n",
        "    os.makedirs(DEST_FOLDER)\n",
        "\n",
        "# Function to reverse videos with CUDA (GPU acceleration)\n",
        "def reverse_videos(input_folder, output_folder):\n",
        "    for root, _, files in os.walk(input_folder):\n",
        "        # Maintain folder structure in the new location\n",
        "        rel_path = os.path.relpath(root, input_folder)\n",
        "        target_dir = os.path.join(output_folder, rel_path)\n",
        "\n",
        "        if not os.path.exists(target_dir):\n",
        "            os.makedirs(target_dir)\n",
        "\n",
        "        for file in files:\n",
        "            if file.lower().endswith(('.mp4', '.mkv', '.avi', '.mov', '.flv')):\n",
        "                input_file = os.path.join(root, file)\n",
        "                output_file = os.path.join(target_dir, f\"{os.path.splitext(file)[0]}_reversed.mp4\")\n",
        "\n",
        "                # ✅ Use GPU-accelerated FFmpeg with CUDA\n",
        "                command = f'ffmpeg -hwaccel cuda -i \"{input_file}\" -vf reverse -af areverse -c:v h264_nvenc -preset fast \"{output_file}\"'\n",
        "\n",
        "                print(f\"🚀 Reversing: {input_file} -> {output_file}\")\n",
        "                subprocess.run(command, shell=True)\n",
        "\n",
        "# 🚀 Start Processing Videos\n",
        "reverse_videos(SOURCE_FOLDER, DEST_FOLDER)\n",
        "print(\"\\n✅ All videos reversed successfully! Files saved in:\", DEST_FOLDER)\n"
      ],
      "metadata": {
        "colab": {
          "base_uri": "https://localhost:8080/"
        },
        "id": "AAGwjLQZ2rGt",
        "outputId": "bd44a8a1-4760-4291-98c3-b7e5acab3f33"
      },
      "execution_count": 3,
      "outputs": [
        {
          "output_type": "stream",
          "name": "stdout",
          "text": [
            "🚀 Reversing: /content/drive/MyDrive/Maven/118 - Maven in Eclipse.mp4 -> /content/drive/MyDrive/Maven_reversed/./118 - Maven in Eclipse_reversed.mp4\n",
            "🚀 Reversing: /content/drive/MyDrive/Maven/2/115 - Getting Dependencies.mp4 -> /content/drive/MyDrive/Maven_reversed/2/115 - Getting Dependencies_reversed.mp4\n",
            "🚀 Reversing: /content/drive/MyDrive/Maven/3/117 - Maven Archetype.mp4 -> /content/drive/MyDrive/Maven_reversed/3/117 - Maven Archetype_reversed.mp4\n",
            "🚀 Reversing: /content/drive/MyDrive/Maven/1/113 - Maven Introduction.mp4 -> /content/drive/MyDrive/Maven_reversed/1/113 - Maven Introduction_reversed.mp4\n",
            "\n",
            "✅ All videos reversed successfully! Files saved in: /content/drive/MyDrive/Maven_reversed\n"
          ]
        }
      ]
    }
  ]
}